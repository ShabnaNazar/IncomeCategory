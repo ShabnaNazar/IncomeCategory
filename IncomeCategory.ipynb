{
 "cells": [
  {
   "cell_type": "markdown",
   "metadata": {},
   "source": [
    "For this assignment, use the population.csv file. This file is in the Files section of the course portal. This file contains information about individuals like their age, marital status,education, etc. and the y variable is the income. The cut off value for the income is $50,000. You will notice that in education columns, there are too many unique type such as 8th grade, 9th grade etc. If you like, you can consolidate these types so that you have a manageable quantity.\n",
    "\n",
    "\n",
    "Perform the following:\n",
    "\n",
    "1) Print the names of the columns.\n",
    "\n",
    "2) Print the number of rows and columns.\n",
    "\n",
    "3) Change string categorical variables to numbers.\n",
    "\n",
    "4) Check if there are any NaN values. If yes, replace them with appropriate value or values.\n",
    "\n",
    "5) Run Logistic Regression, Decision Tree and Random forest and compute accuracy for each model. \n",
    "\n",
    "6) Make a conclusion. This is an important step, so make sure you write this."
   ]
  },
  {
   "cell_type": "code",
   "execution_count": 1,
   "metadata": {},
   "outputs": [],
   "source": [
    "import numpy as np\n",
    "import pandas as pd\n",
    "import matplotlib.pyplot as plt\n",
    "import seaborn as sns\n",
    "%matplotlib inline\n",
    "import warnings\n",
    "warnings.filterwarnings('ignore')"
   ]
  },
  {
   "cell_type": "code",
   "execution_count": 2,
   "metadata": {},
   "outputs": [
    {
     "data": {
      "text/html": [
       "<div>\n",
       "<style scoped>\n",
       "    .dataframe tbody tr th:only-of-type {\n",
       "        vertical-align: middle;\n",
       "    }\n",
       "\n",
       "    .dataframe tbody tr th {\n",
       "        vertical-align: top;\n",
       "    }\n",
       "\n",
       "    .dataframe thead th {\n",
       "        text-align: right;\n",
       "    }\n",
       "</style>\n",
       "<table border=\"1\" class=\"dataframe\">\n",
       "  <thead>\n",
       "    <tr style=\"text-align: right;\">\n",
       "      <th></th>\n",
       "      <th>0</th>\n",
       "      <th>1</th>\n",
       "      <th>2</th>\n",
       "      <th>3</th>\n",
       "      <th>4</th>\n",
       "      <th>5</th>\n",
       "      <th>6</th>\n",
       "      <th>7</th>\n",
       "      <th>8</th>\n",
       "      <th>9</th>\n",
       "      <th>10</th>\n",
       "      <th>11</th>\n",
       "      <th>12</th>\n",
       "      <th>13</th>\n",
       "      <th>14</th>\n",
       "    </tr>\n",
       "  </thead>\n",
       "  <tbody>\n",
       "    <tr>\n",
       "      <th>0</th>\n",
       "      <td>39</td>\n",
       "      <td>State-gov</td>\n",
       "      <td>77516</td>\n",
       "      <td>Bachelors</td>\n",
       "      <td>13</td>\n",
       "      <td>Never-married</td>\n",
       "      <td>Adm-clerical</td>\n",
       "      <td>Not-in-family</td>\n",
       "      <td>White</td>\n",
       "      <td>Male</td>\n",
       "      <td>2174</td>\n",
       "      <td>0</td>\n",
       "      <td>40</td>\n",
       "      <td>United-States</td>\n",
       "      <td>&lt;=50K</td>\n",
       "    </tr>\n",
       "    <tr>\n",
       "      <th>1</th>\n",
       "      <td>50</td>\n",
       "      <td>Self-emp-not-inc</td>\n",
       "      <td>83311</td>\n",
       "      <td>Bachelors</td>\n",
       "      <td>13</td>\n",
       "      <td>Married-civ-spouse</td>\n",
       "      <td>Exec-managerial</td>\n",
       "      <td>Husband</td>\n",
       "      <td>White</td>\n",
       "      <td>Male</td>\n",
       "      <td>0</td>\n",
       "      <td>0</td>\n",
       "      <td>13</td>\n",
       "      <td>United-States</td>\n",
       "      <td>&lt;=50K</td>\n",
       "    </tr>\n",
       "    <tr>\n",
       "      <th>2</th>\n",
       "      <td>38</td>\n",
       "      <td>Private</td>\n",
       "      <td>215646</td>\n",
       "      <td>HS-grad</td>\n",
       "      <td>9</td>\n",
       "      <td>Divorced</td>\n",
       "      <td>Handlers-cleaners</td>\n",
       "      <td>Not-in-family</td>\n",
       "      <td>White</td>\n",
       "      <td>Male</td>\n",
       "      <td>0</td>\n",
       "      <td>0</td>\n",
       "      <td>40</td>\n",
       "      <td>United-States</td>\n",
       "      <td>&lt;=50K</td>\n",
       "    </tr>\n",
       "    <tr>\n",
       "      <th>3</th>\n",
       "      <td>53</td>\n",
       "      <td>Private</td>\n",
       "      <td>234721</td>\n",
       "      <td>11th</td>\n",
       "      <td>7</td>\n",
       "      <td>Married-civ-spouse</td>\n",
       "      <td>Handlers-cleaners</td>\n",
       "      <td>Husband</td>\n",
       "      <td>Black</td>\n",
       "      <td>Male</td>\n",
       "      <td>0</td>\n",
       "      <td>0</td>\n",
       "      <td>40</td>\n",
       "      <td>United-States</td>\n",
       "      <td>&lt;=50K</td>\n",
       "    </tr>\n",
       "    <tr>\n",
       "      <th>4</th>\n",
       "      <td>28</td>\n",
       "      <td>Private</td>\n",
       "      <td>338409</td>\n",
       "      <td>Bachelors</td>\n",
       "      <td>13</td>\n",
       "      <td>Married-civ-spouse</td>\n",
       "      <td>Prof-specialty</td>\n",
       "      <td>Wife</td>\n",
       "      <td>Black</td>\n",
       "      <td>Female</td>\n",
       "      <td>0</td>\n",
       "      <td>0</td>\n",
       "      <td>40</td>\n",
       "      <td>Cuba</td>\n",
       "      <td>&lt;=50K</td>\n",
       "    </tr>\n",
       "  </tbody>\n",
       "</table>\n",
       "</div>"
      ],
      "text/plain": [
       "   0                  1       2           3   4                    5   \\\n",
       "0  39          State-gov   77516   Bachelors  13        Never-married   \n",
       "1  50   Self-emp-not-inc   83311   Bachelors  13   Married-civ-spouse   \n",
       "2  38            Private  215646     HS-grad   9             Divorced   \n",
       "3  53            Private  234721        11th   7   Married-civ-spouse   \n",
       "4  28            Private  338409   Bachelors  13   Married-civ-spouse   \n",
       "\n",
       "                   6               7       8        9     10  11  12  \\\n",
       "0        Adm-clerical   Not-in-family   White     Male  2174   0  40   \n",
       "1     Exec-managerial         Husband   White     Male     0   0  13   \n",
       "2   Handlers-cleaners   Not-in-family   White     Male     0   0  40   \n",
       "3   Handlers-cleaners         Husband   Black     Male     0   0  40   \n",
       "4      Prof-specialty            Wife   Black   Female     0   0  40   \n",
       "\n",
       "               13      14  \n",
       "0   United-States   <=50K  \n",
       "1   United-States   <=50K  \n",
       "2   United-States   <=50K  \n",
       "3   United-States   <=50K  \n",
       "4            Cuba   <=50K  "
      ]
     },
     "execution_count": 2,
     "metadata": {},
     "output_type": "execute_result"
    }
   ],
   "source": [
    "pop_df = pd.read_csv('population.csv', header = None)\n",
    "pop_df.head()"
   ]
  },
  {
   "cell_type": "code",
   "execution_count": 3,
   "metadata": {},
   "outputs": [
    {
     "name": "stdout",
     "output_type": "stream",
     "text": [
      "Index(['COLUMN_0', 'COLUMN_1', 'COLUMN_2', 'COLUMN_3', 'COLUMN_4', 'COLUMN_5',\n",
      "       'COLUMN_6', 'COLUMN_7', 'COLUMN_8', 'COLUMN_9', 'COLUMN_10',\n",
      "       'COLUMN_11', 'COLUMN_12', 'COLUMN_13', 'COLUMN_14'],\n",
      "      dtype='object')\n"
     ]
    }
   ],
   "source": [
    "#Assigning a generic name to Columns initially and expected column name will be added when data is reviewed\n",
    "\n",
    "col_names=['COLUMN_0', 'COLUMN_1', 'COLUMN_2','COLUMN_3','COLUMN_4','COLUMN_5', 'COLUMN_6','COLUMN_7',\n",
    "          'COLUMN_8', 'COLUMN_9', 'COLUMN_10' ,'COLUMN_11', 'COLUMN_12', 'COLUMN_13', 'COLUMN_14' ]\n",
    "\n",
    "pop_df = pd.read_csv('population.csv',header=None, names = col_names )\n",
    "\n",
    "#1) Print the names of the columns\n",
    "print(pop_df.columns)"
   ]
  },
  {
   "cell_type": "code",
   "execution_count": 4,
   "metadata": {},
   "outputs": [
    {
     "name": "stdout",
     "output_type": "stream",
     "text": [
      "Number of rows and columns:  (32561, 15)\n"
     ]
    }
   ],
   "source": [
    "#2) Print the number of rows and columns\n",
    "print('Number of rows and columns: ', pop_df.shape)"
   ]
  },
  {
   "cell_type": "code",
   "execution_count": 5,
   "metadata": {},
   "outputs": [
    {
     "name": "stdout",
     "output_type": "stream",
     "text": [
      "<class 'pandas.core.frame.DataFrame'>\n",
      "RangeIndex: 32561 entries, 0 to 32560\n",
      "Data columns (total 15 columns):\n",
      " #   Column     Non-Null Count  Dtype \n",
      "---  ------     --------------  ----- \n",
      " 0   COLUMN_0   32561 non-null  int64 \n",
      " 1   COLUMN_1   32561 non-null  object\n",
      " 2   COLUMN_2   32561 non-null  int64 \n",
      " 3   COLUMN_3   32561 non-null  object\n",
      " 4   COLUMN_4   32561 non-null  int64 \n",
      " 5   COLUMN_5   32561 non-null  object\n",
      " 6   COLUMN_6   32561 non-null  object\n",
      " 7   COLUMN_7   32561 non-null  object\n",
      " 8   COLUMN_8   32561 non-null  object\n",
      " 9   COLUMN_9   32561 non-null  object\n",
      " 10  COLUMN_10  32561 non-null  int64 \n",
      " 11  COLUMN_11  32561 non-null  int64 \n",
      " 12  COLUMN_12  32561 non-null  int64 \n",
      " 13  COLUMN_13  32561 non-null  object\n",
      " 14  COLUMN_14  32561 non-null  object\n",
      "dtypes: int64(6), object(9)\n",
      "memory usage: 3.7+ MB\n"
     ]
    }
   ],
   "source": [
    "pop_df.info()"
   ]
  },
  {
   "cell_type": "markdown",
   "metadata": {},
   "source": [
    "#### Data preprocessing and Data Wrangling"
   ]
  },
  {
   "cell_type": "code",
   "execution_count": 6,
   "metadata": {},
   "outputs": [
    {
     "data": {
      "text/plain": [
       "36    898\n",
       "31    888\n",
       "34    886\n",
       "23    877\n",
       "35    876\n",
       "     ... \n",
       "83      6\n",
       "85      3\n",
       "88      3\n",
       "87      1\n",
       "86      1\n",
       "Name: COLUMN_0, Length: 73, dtype: int64"
      ]
     },
     "execution_count": 6,
     "metadata": {},
     "output_type": "execute_result"
    }
   ],
   "source": [
    "pop_df.COLUMN_0.value_counts(ascending=False)"
   ]
  },
  {
   "cell_type": "code",
   "execution_count": 7,
   "metadata": {},
   "outputs": [],
   "source": [
    "#COLUMN_0 seems to be the AGE of the person. So renaming the column name to AGE\n",
    "pop_df.rename(columns={\"COLUMN_0\": \"Age\"}, inplace = True)"
   ]
  },
  {
   "cell_type": "code",
   "execution_count": 8,
   "metadata": {},
   "outputs": [
    {
     "data": {
      "text/plain": [
       " Private             22696\n",
       " Self-emp-not-inc     2541\n",
       " Local-gov            2093\n",
       " ?                    1836\n",
       " State-gov            1298\n",
       " Self-emp-inc         1116\n",
       " Federal-gov           960\n",
       " Without-pay            14\n",
       " Never-worked            7\n",
       "Name: COLUMN_1, dtype: int64"
      ]
     },
     "execution_count": 8,
     "metadata": {},
     "output_type": "execute_result"
    }
   ],
   "source": [
    "pop_df.COLUMN_1.value_counts()"
   ]
  },
  {
   "cell_type": "code",
   "execution_count": 9,
   "metadata": {},
   "outputs": [],
   "source": [
    "#COLUMN_1 denotes the Job sector. So renaming the column name to JOB_SECTOR\n",
    "pop_df.rename(columns={\"COLUMN_1\": \"Job_Sector\"}, inplace = True)"
   ]
  },
  {
   "cell_type": "code",
   "execution_count": 10,
   "metadata": {},
   "outputs": [
    {
     "data": {
      "text/plain": [
       "count        32561\n",
       "unique           9\n",
       "top        Private\n",
       "freq         22696\n",
       "Name: Job_Sector, dtype: object"
      ]
     },
     "execution_count": 10,
     "metadata": {},
     "output_type": "execute_result"
    }
   ],
   "source": [
    "pop_df.Job_Sector.describe()"
   ]
  },
  {
   "cell_type": "code",
   "execution_count": 11,
   "metadata": {},
   "outputs": [],
   "source": [
    "#Replacing '?' with top value or mode\n",
    "pop_df.Job_Sector=pop_df.Job_Sector.str.replace('?',pop_df.Job_Sector.mode()[0].strip())"
   ]
  },
  {
   "cell_type": "code",
   "execution_count": 12,
   "metadata": {},
   "outputs": [
    {
     "data": {
      "text/plain": [
       " Private             24532\n",
       " Self-emp-not-inc     2541\n",
       " Local-gov            2093\n",
       " State-gov            1298\n",
       " Self-emp-inc         1116\n",
       " Federal-gov           960\n",
       " Without-pay            14\n",
       " Never-worked            7\n",
       "Name: Job_Sector, dtype: int64"
      ]
     },
     "execution_count": 12,
     "metadata": {},
     "output_type": "execute_result"
    }
   ],
   "source": [
    "pop_df.Job_Sector.value_counts()"
   ]
  },
  {
   "cell_type": "code",
   "execution_count": 13,
   "metadata": {},
   "outputs": [
    {
     "data": {
      "text/plain": [
       "164190    13\n",
       "203488    13\n",
       "123011    13\n",
       "113364    12\n",
       "121124    12\n",
       "          ..\n",
       "284211     1\n",
       "312881     1\n",
       "177711     1\n",
       "179758     1\n",
       "229376     1\n",
       "Name: COLUMN_2, Length: 21648, dtype: int64"
      ]
     },
     "execution_count": 13,
     "metadata": {},
     "output_type": "execute_result"
    }
   ],
   "source": [
    "pop_df.COLUMN_2.value_counts()"
   ]
  },
  {
   "cell_type": "code",
   "execution_count": 14,
   "metadata": {},
   "outputs": [
    {
     "data": {
      "text/plain": [
       " HS-grad         10501\n",
       " Some-college     7291\n",
       " Bachelors        5355\n",
       " Masters          1723\n",
       " Assoc-voc        1382\n",
       " 11th             1175\n",
       " Assoc-acdm       1067\n",
       " 10th              933\n",
       " 7th-8th           646\n",
       " Prof-school       576\n",
       " 9th               514\n",
       " 12th              433\n",
       " Doctorate         413\n",
       " 5th-6th           333\n",
       " 1st-4th           168\n",
       " Preschool          51\n",
       "Name: COLUMN_3, dtype: int64"
      ]
     },
     "execution_count": 14,
     "metadata": {},
     "output_type": "execute_result"
    }
   ],
   "source": [
    "pop_df.COLUMN_3.value_counts()"
   ]
  },
  {
   "cell_type": "code",
   "execution_count": 15,
   "metadata": {},
   "outputs": [],
   "source": [
    "#COLUMN_3 denotes Education details of the person. So renaming the column name to EDUCATION\n",
    "pop_df.rename(columns={\"COLUMN_3\": \"Education\"}, inplace = True)"
   ]
  },
  {
   "cell_type": "code",
   "execution_count": 16,
   "metadata": {
    "scrolled": true
   },
   "outputs": [
    {
     "data": {
      "text/plain": [
       "9     10501\n",
       "10     7291\n",
       "13     5355\n",
       "14     1723\n",
       "11     1382\n",
       "7      1175\n",
       "12     1067\n",
       "6       933\n",
       "4       646\n",
       "15      576\n",
       "5       514\n",
       "8       433\n",
       "16      413\n",
       "3       333\n",
       "2       168\n",
       "1        51\n",
       "Name: COLUMN_4, dtype: int64"
      ]
     },
     "execution_count": 16,
     "metadata": {},
     "output_type": "execute_result"
    }
   ],
   "source": [
    "pop_df.COLUMN_4.value_counts()"
   ]
  },
  {
   "cell_type": "code",
   "execution_count": 17,
   "metadata": {},
   "outputs": [],
   "source": [
    "#COLUMN_4 may denotes level of Education of the person. So renaming the column name to Education_Level\n",
    "pop_df.rename(columns={\"COLUMN_4\": \"Education_Level\"}, inplace = True)"
   ]
  },
  {
   "cell_type": "code",
   "execution_count": 18,
   "metadata": {},
   "outputs": [
    {
     "data": {
      "text/plain": [
       " Married-civ-spouse       14976\n",
       " Never-married            10683\n",
       " Divorced                  4443\n",
       " Separated                 1025\n",
       " Widowed                    993\n",
       " Married-spouse-absent      418\n",
       " Married-AF-spouse           23\n",
       "Name: COLUMN_5, dtype: int64"
      ]
     },
     "execution_count": 18,
     "metadata": {},
     "output_type": "execute_result"
    }
   ],
   "source": [
    "pop_df.COLUMN_5.value_counts()"
   ]
  },
  {
   "cell_type": "code",
   "execution_count": 19,
   "metadata": {},
   "outputs": [],
   "source": [
    "#COLUMN_5 may denotes Maristal status of the person. So renaming the column name to MARITAL_STATUS\n",
    "pop_df.rename(columns={\"COLUMN_5\": \"Marital_Status\"}, inplace = True)"
   ]
  },
  {
   "cell_type": "code",
   "execution_count": 20,
   "metadata": {},
   "outputs": [
    {
     "data": {
      "text/plain": [
       " Prof-specialty       4140\n",
       " Craft-repair         4099\n",
       " Exec-managerial      4066\n",
       " Adm-clerical         3770\n",
       " Sales                3650\n",
       " Other-service        3295\n",
       " Machine-op-inspct    2002\n",
       " ?                    1843\n",
       " Transport-moving     1597\n",
       " Handlers-cleaners    1370\n",
       " Farming-fishing       994\n",
       " Tech-support          928\n",
       " Protective-serv       649\n",
       " Priv-house-serv       149\n",
       " Armed-Forces            9\n",
       "Name: COLUMN_6, dtype: int64"
      ]
     },
     "execution_count": 20,
     "metadata": {},
     "output_type": "execute_result"
    }
   ],
   "source": [
    "pop_df.COLUMN_6.value_counts()"
   ]
  },
  {
   "cell_type": "code",
   "execution_count": 21,
   "metadata": {},
   "outputs": [],
   "source": [
    "#COLUMN_6  denotes Job Type of the person. So renaming the column name to JOB_TYPE\n",
    "pop_df.rename(columns={\"COLUMN_6\": \"Job_Type\"}, inplace = True)"
   ]
  },
  {
   "cell_type": "code",
   "execution_count": 22,
   "metadata": {},
   "outputs": [],
   "source": [
    "#Replacing '?' with mode\n",
    "pop_df.Job_Type = pop_df.Job_Type.str.replace('?',pop_df.Job_Type.mode()[0].strip())"
   ]
  },
  {
   "cell_type": "code",
   "execution_count": 23,
   "metadata": {},
   "outputs": [
    {
     "data": {
      "text/plain": [
       " Prof-specialty       5983\n",
       " Craft-repair         4099\n",
       " Exec-managerial      4066\n",
       " Adm-clerical         3770\n",
       " Sales                3650\n",
       " Other-service        3295\n",
       " Machine-op-inspct    2002\n",
       " Transport-moving     1597\n",
       " Handlers-cleaners    1370\n",
       " Farming-fishing       994\n",
       " Tech-support          928\n",
       " Protective-serv       649\n",
       " Priv-house-serv       149\n",
       " Armed-Forces            9\n",
       "Name: Job_Type, dtype: int64"
      ]
     },
     "execution_count": 23,
     "metadata": {},
     "output_type": "execute_result"
    }
   ],
   "source": [
    "pop_df.Job_Type.value_counts()"
   ]
  },
  {
   "cell_type": "code",
   "execution_count": 24,
   "metadata": {},
   "outputs": [
    {
     "data": {
      "text/plain": [
       " Husband           13193\n",
       " Not-in-family      8305\n",
       " Own-child          5068\n",
       " Unmarried          3446\n",
       " Wife               1568\n",
       " Other-relative      981\n",
       "Name: COLUMN_7, dtype: int64"
      ]
     },
     "execution_count": 24,
     "metadata": {},
     "output_type": "execute_result"
    }
   ],
   "source": [
    "pop_df.COLUMN_7.value_counts()"
   ]
  },
  {
   "cell_type": "code",
   "execution_count": 25,
   "metadata": {},
   "outputs": [],
   "source": [
    "#COLUMN_7  denotes Family status of the person. So renaming the column name to Relationship\n",
    "pop_df.rename(columns={\"COLUMN_7\": \"Relationship\"}, inplace = True)"
   ]
  },
  {
   "cell_type": "code",
   "execution_count": 26,
   "metadata": {},
   "outputs": [
    {
     "data": {
      "text/plain": [
       " White                 27816\n",
       " Black                  3124\n",
       " Asian-Pac-Islander     1039\n",
       " Amer-Indian-Eskimo      311\n",
       " Other                   271\n",
       "Name: COLUMN_8, dtype: int64"
      ]
     },
     "execution_count": 26,
     "metadata": {},
     "output_type": "execute_result"
    }
   ],
   "source": [
    "pop_df.COLUMN_8.value_counts()"
   ]
  },
  {
   "cell_type": "code",
   "execution_count": 27,
   "metadata": {},
   "outputs": [],
   "source": [
    "#COLUMN_8 denotes race of the person. So renaming the column name to RACE\n",
    "pop_df.rename(columns={\"COLUMN_8\": \"Race\"}, inplace = True)"
   ]
  },
  {
   "cell_type": "code",
   "execution_count": 28,
   "metadata": {},
   "outputs": [
    {
     "data": {
      "text/plain": [
       " Male      21790\n",
       " Female    10771\n",
       "Name: COLUMN_9, dtype: int64"
      ]
     },
     "execution_count": 28,
     "metadata": {},
     "output_type": "execute_result"
    }
   ],
   "source": [
    "pop_df.COLUMN_9.value_counts()"
   ]
  },
  {
   "cell_type": "code",
   "execution_count": 29,
   "metadata": {},
   "outputs": [],
   "source": [
    "#COLUMN_9 denotes Gender of the person. So renaming the column name to Gender\n",
    "pop_df.rename(columns={\"COLUMN_9\": \"Gender\"}, inplace = True)"
   ]
  },
  {
   "cell_type": "code",
   "execution_count": 30,
   "metadata": {},
   "outputs": [
    {
     "data": {
      "text/plain": [
       "0        29849\n",
       "15024      347\n",
       "7688       284\n",
       "7298       246\n",
       "99999      159\n",
       "         ...  \n",
       "4931         1\n",
       "1455         1\n",
       "6097         1\n",
       "22040        1\n",
       "1111         1\n",
       "Name: COLUMN_10, Length: 119, dtype: int64"
      ]
     },
     "execution_count": 30,
     "metadata": {},
     "output_type": "execute_result"
    }
   ],
   "source": [
    "pop_df.COLUMN_10.value_counts()"
   ]
  },
  {
   "cell_type": "code",
   "execution_count": 31,
   "metadata": {},
   "outputs": [
    {
     "data": {
      "text/plain": [
       "0       31042\n",
       "1902      202\n",
       "1977      168\n",
       "1887      159\n",
       "1848       51\n",
       "        ...  \n",
       "1411        1\n",
       "1539        1\n",
       "2472        1\n",
       "1944        1\n",
       "2201        1\n",
       "Name: COLUMN_11, Length: 92, dtype: int64"
      ]
     },
     "execution_count": 31,
     "metadata": {},
     "output_type": "execute_result"
    }
   ],
   "source": [
    "pop_df.COLUMN_11.value_counts()"
   ]
  },
  {
   "cell_type": "code",
   "execution_count": 32,
   "metadata": {},
   "outputs": [
    {
     "data": {
      "text/plain": [
       "40    15217\n",
       "50     2819\n",
       "45     1824\n",
       "60     1475\n",
       "35     1297\n",
       "      ...  \n",
       "92        1\n",
       "94        1\n",
       "87        1\n",
       "74        1\n",
       "82        1\n",
       "Name: COLUMN_12, Length: 94, dtype: int64"
      ]
     },
     "execution_count": 32,
     "metadata": {},
     "output_type": "execute_result"
    }
   ],
   "source": [
    "pop_df.COLUMN_12.value_counts()"
   ]
  },
  {
   "cell_type": "code",
   "execution_count": 33,
   "metadata": {},
   "outputs": [
    {
     "data": {
      "text/plain": [
       " United-States                 29170\n",
       " Mexico                          643\n",
       " ?                               583\n",
       " Philippines                     198\n",
       " Germany                         137\n",
       " Canada                          121\n",
       " Puerto-Rico                     114\n",
       " El-Salvador                     106\n",
       " India                           100\n",
       " Cuba                             95\n",
       " England                          90\n",
       " Jamaica                          81\n",
       " South                            80\n",
       " China                            75\n",
       " Italy                            73\n",
       " Dominican-Republic               70\n",
       " Vietnam                          67\n",
       " Guatemala                        64\n",
       " Japan                            62\n",
       " Poland                           60\n",
       " Columbia                         59\n",
       " Taiwan                           51\n",
       " Haiti                            44\n",
       " Iran                             43\n",
       " Portugal                         37\n",
       " Nicaragua                        34\n",
       " Peru                             31\n",
       " France                           29\n",
       " Greece                           29\n",
       " Ecuador                          28\n",
       " Ireland                          24\n",
       " Hong                             20\n",
       " Trinadad&Tobago                  19\n",
       " Cambodia                         19\n",
       " Thailand                         18\n",
       " Laos                             18\n",
       " Yugoslavia                       16\n",
       " Outlying-US(Guam-USVI-etc)       14\n",
       " Honduras                         13\n",
       " Hungary                          13\n",
       " Scotland                         12\n",
       " Holand-Netherlands                1\n",
       "Name: COLUMN_13, dtype: int64"
      ]
     },
     "execution_count": 33,
     "metadata": {},
     "output_type": "execute_result"
    }
   ],
   "source": [
    "pop_df.COLUMN_13.value_counts()"
   ]
  },
  {
   "cell_type": "code",
   "execution_count": 34,
   "metadata": {},
   "outputs": [],
   "source": [
    "#COLUMN_13 denotes Country of the person. So renaming the column name to Country\n",
    "pop_df.rename(columns={\"COLUMN_13\": \"Country\"}, inplace = True)"
   ]
  },
  {
   "cell_type": "code",
   "execution_count": 35,
   "metadata": {},
   "outputs": [],
   "source": [
    "#Replacing '?' with mode\n",
    "pop_df.Country = pop_df.Country.str.replace('?',pop_df.Country.mode()[0].strip())"
   ]
  },
  {
   "cell_type": "code",
   "execution_count": 36,
   "metadata": {},
   "outputs": [
    {
     "data": {
      "text/plain": [
       " <=50K    24720\n",
       " >50K      7841\n",
       "Name: COLUMN_14, dtype: int64"
      ]
     },
     "execution_count": 36,
     "metadata": {},
     "output_type": "execute_result"
    }
   ],
   "source": [
    "pop_df.COLUMN_14.value_counts()"
   ]
  },
  {
   "cell_type": "code",
   "execution_count": 37,
   "metadata": {},
   "outputs": [
    {
     "data": {
      "text/plain": [
       "0        29849\n",
       "15024      347\n",
       "7688       284\n",
       "7298       246\n",
       "99999      159\n",
       "         ...  \n",
       "4931         1\n",
       "1455         1\n",
       "6097         1\n",
       "22040        1\n",
       "1111         1\n",
       "Name: COLUMN_10, Length: 119, dtype: int64"
      ]
     },
     "execution_count": 37,
     "metadata": {},
     "output_type": "execute_result"
    }
   ],
   "source": [
    "pop_df.COLUMN_10.value_counts()"
   ]
  },
  {
   "cell_type": "code",
   "execution_count": 38,
   "metadata": {},
   "outputs": [
    {
     "data": {
      "text/plain": [
       "0       31042\n",
       "1902      202\n",
       "1977      168\n",
       "1887      159\n",
       "1848       51\n",
       "        ...  \n",
       "1411        1\n",
       "1539        1\n",
       "2472        1\n",
       "1944        1\n",
       "2201        1\n",
       "Name: COLUMN_11, Length: 92, dtype: int64"
      ]
     },
     "execution_count": 38,
     "metadata": {},
     "output_type": "execute_result"
    }
   ],
   "source": [
    "pop_df.COLUMN_11.value_counts()"
   ]
  },
  {
   "cell_type": "code",
   "execution_count": 39,
   "metadata": {},
   "outputs": [
    {
     "data": {
      "text/plain": [
       "40    15217\n",
       "50     2819\n",
       "45     1824\n",
       "60     1475\n",
       "35     1297\n",
       "      ...  \n",
       "92        1\n",
       "94        1\n",
       "87        1\n",
       "74        1\n",
       "82        1\n",
       "Name: COLUMN_12, Length: 94, dtype: int64"
      ]
     },
     "execution_count": 39,
     "metadata": {},
     "output_type": "execute_result"
    }
   ],
   "source": [
    "pop_df.COLUMN_12.value_counts()"
   ]
  },
  {
   "cell_type": "code",
   "execution_count": 40,
   "metadata": {},
   "outputs": [],
   "source": [
    "#COLUMN_14 denotes Income category of the person. So renaming the column name to Income_Category\n",
    "pop_df.rename(columns={\"COLUMN_14\": \"Income_Category\"}, inplace = True)"
   ]
  },
  {
   "cell_type": "code",
   "execution_count": 41,
   "metadata": {},
   "outputs": [
    {
     "name": "stdout",
     "output_type": "stream",
     "text": [
      "<class 'pandas.core.frame.DataFrame'>\n",
      "RangeIndex: 32561 entries, 0 to 32560\n",
      "Data columns (total 15 columns):\n",
      " #   Column           Non-Null Count  Dtype \n",
      "---  ------           --------------  ----- \n",
      " 0   Age              32561 non-null  int64 \n",
      " 1   Job_Sector       32561 non-null  object\n",
      " 2   COLUMN_2         32561 non-null  int64 \n",
      " 3   Education        32561 non-null  object\n",
      " 4   Education_Level  32561 non-null  int64 \n",
      " 5   Marital_Status   32561 non-null  object\n",
      " 6   Job_Type         32561 non-null  object\n",
      " 7   Relationship     32561 non-null  object\n",
      " 8   Race             32561 non-null  object\n",
      " 9   Gender           32561 non-null  object\n",
      " 10  COLUMN_10        32561 non-null  int64 \n",
      " 11  COLUMN_11        32561 non-null  int64 \n",
      " 12  COLUMN_12        32561 non-null  int64 \n",
      " 13  Country          32561 non-null  object\n",
      " 14  Income_Category  32561 non-null  object\n",
      "dtypes: int64(6), object(9)\n",
      "memory usage: 3.7+ MB\n"
     ]
    }
   ],
   "source": [
    "pop_df.info()"
   ]
  },
  {
   "cell_type": "code",
   "execution_count": 42,
   "metadata": {},
   "outputs": [
    {
     "data": {
      "text/plain": [
       "Age                0\n",
       "Job_Sector         0\n",
       "COLUMN_2           0\n",
       "Education          0\n",
       "Education_Level    0\n",
       "Marital_Status     0\n",
       "Job_Type           0\n",
       "Relationship       0\n",
       "Race               0\n",
       "Gender             0\n",
       "COLUMN_10          0\n",
       "COLUMN_11          0\n",
       "COLUMN_12          0\n",
       "Country            0\n",
       "Income_Category    0\n",
       "dtype: int64"
      ]
     },
     "execution_count": 42,
     "metadata": {},
     "output_type": "execute_result"
    }
   ],
   "source": [
    "#4) Check if there are any NaN values. If yes, replace them with appropriate value or values.\n",
    "pop_df.isna().sum()"
   ]
  },
  {
   "cell_type": "code",
   "execution_count": 43,
   "metadata": {},
   "outputs": [
    {
     "data": {
      "text/plain": [
       "Index(['Age', 'Job_Sector', 'COLUMN_2', 'Education', 'Education_Level',\n",
       "       'Marital_Status', 'Job_Type', 'Relationship', 'Race', 'Gender',\n",
       "       'COLUMN_10', 'COLUMN_11', 'COLUMN_12', 'Country', 'Income_Category'],\n",
       "      dtype='object')"
      ]
     },
     "execution_count": 43,
     "metadata": {},
     "output_type": "execute_result"
    }
   ],
   "source": [
    "#1) Print the names of the columns.\n",
    "pop_df.columns"
   ]
  },
  {
   "cell_type": "markdown",
   "metadata": {},
   "source": [
    "#### Data Visualization"
   ]
  },
  {
   "cell_type": "code",
   "execution_count": 44,
   "metadata": {},
   "outputs": [
    {
     "data": {
      "image/png": "[encoded data removed]",
      "text/plain": [
       "<Figure size 432x288 with 1 Axes>"
      ]
     },
     "metadata": {
      "needs_background": "light"
     },
     "output_type": "display_data"
    }
   ],
   "source": [
    "#plot target variable\n",
    "\n",
    "sns.countplot(pop_df.Income_Category)\n",
    "plt.show()"
   ]
  },
  {
   "cell_type": "markdown",
   "metadata": {},
   "source": [
    "Majority of this population data set has less income or Income less 50K"
   ]
  },
  {
   "cell_type": "code",
   "execution_count": 45,
   "metadata": {},
   "outputs": [
    {
     "data": {
      "text/plain": [
       "<AxesSubplot:xlabel='Education', ylabel='count'>"
      ]
     },
     "execution_count": 45,
     "metadata": {},
     "output_type": "execute_result"
    },
    {
     "data": {
      "image/png": "[encoded data removed]",
      "text/plain": [
       "<Figure size 1296x576 with 1 Axes>"
      ]
     },
     "metadata": {
      "needs_background": "light"
     },
     "output_type": "display_data"
    }
   ],
   "source": [
    "ax_dim = (18, 8)\n",
    "fig, ax = plt.subplots(figsize=ax_dim)\n",
    "sns.countplot(ax=ax,data=pop_df, x='Education', hue='Income_Category')"
   ]
  },
  {
   "cell_type": "markdown",
   "metadata": {},
   "source": [
    "Majority of the population of this dataset has a Bachelors Degreee or Some College Experience. \n",
    "People who are having Doctorates or went Profession school are likely to get higher income"
   ]
  },
  {
   "cell_type": "code",
   "execution_count": 46,
   "metadata": {},
   "outputs": [
    {
     "data": {
      "text/plain": [
       "<AxesSubplot:xlabel='Education_Level', ylabel='count'>"
      ]
     },
     "execution_count": 46,
     "metadata": {},
     "output_type": "execute_result"
    },
    {
     "data": {
      "image/png": "[encoded data removed]",
      "text/plain": [
       "<Figure size 1296x576 with 1 Axes>"
      ]
     },
     "metadata": {
      "needs_background": "light"
     },
     "output_type": "display_data"
    }
   ],
   "source": [
    "ax_dim = (18, 8)\n",
    "fig, ax = plt.subplots(figsize=ax_dim)\n",
    "sns.countplot(ax=ax,data=pop_df, x='Education_Level', hue='Income_Category')"
   ]
  },
  {
   "cell_type": "markdown",
   "metadata": {},
   "source": [
    "Majority of the population of this dataset has an Education_Level of 9 or 10\n",
    "People who are having higher Education_Level are more likely to get higher income"
   ]
  },
  {
   "cell_type": "code",
   "execution_count": 47,
   "metadata": {},
   "outputs": [
    {
     "data": {
      "text/plain": [
       "<AxesSubplot:xlabel='Job_Sector', ylabel='count'>"
      ]
     },
     "execution_count": 47,
     "metadata": {},
     "output_type": "execute_result"
    },
    {
     "data": {
      "image/png": "[encoded data removed]",
      "text/plain": [
       "<Figure size 1296x576 with 1 Axes>"
      ]
     },
     "metadata": {
      "needs_background": "light"
     },
     "output_type": "display_data"
    }
   ],
   "source": [
    "ax_dim = (18, 8)\n",
    "fig, ax = plt.subplots(figsize=ax_dim)\n",
    "sns.countplot(ax=ax,data=pop_df, x='Job_Sector', hue='Income_Category')"
   ]
  },
  {
   "cell_type": "markdown",
   "metadata": {},
   "source": [
    "Majority of the population works in Private sector in this dataset. Around 25% of that population has higher income\n",
    "compared to rest. "
   ]
  },
  {
   "cell_type": "code",
   "execution_count": 48,
   "metadata": {},
   "outputs": [
    {
     "data": {
      "text/plain": [
       "<AxesSubplot:xlabel='Marital_Status', ylabel='count'>"
      ]
     },
     "execution_count": 48,
     "metadata": {},
     "output_type": "execute_result"
    },
    {
     "data": {
      "image/png": "[encoded data removed]",
      "text/plain": [
       "<Figure size 864x432 with 1 Axes>"
      ]
     },
     "metadata": {
      "needs_background": "light"
     },
     "output_type": "display_data"
    }
   ],
   "source": [
    "ax_dim = (12, 6)\n",
    "fig, ax = plt.subplots(figsize=ax_dim)\n",
    "sns.countplot(ax=ax,data=pop_df, x='Marital_Status', hue='Income_Category')"
   ]
  },
  {
   "cell_type": "markdown",
   "metadata": {},
   "source": [
    "People who are married and having a spouse has higher income comepared to rest of the population"
   ]
  },
  {
   "cell_type": "code",
   "execution_count": 49,
   "metadata": {},
   "outputs": [
    {
     "data": {
      "text/plain": [
       "<seaborn.axisgrid.FacetGrid at 0x119b4e9a0>"
      ]
     },
     "execution_count": 49,
     "metadata": {},
     "output_type": "execute_result"
    },
    {
     "data": {
      "image/png": "[encoded data removed]",
      "text/plain": [
       "<Figure size 454.875x360 with 1 Axes>"
      ]
     },
     "metadata": {
      "needs_background": "light"
     },
     "output_type": "display_data"
    }
   ],
   "source": [
    "ax_dim = (20, 9)\n",
    "chart = sns.catplot(ax=ax, data=pop_df, x='Job_Type', kind='count', hue='Income_Category')\n",
    "chart.set_xticklabels(rotation=65, horizontalalignment='right')\n"
   ]
  },
  {
   "cell_type": "markdown",
   "metadata": {},
   "source": [
    "People who are working as Managerial Excetives or as Professionals in Speciality field has high income \n",
    "compared to rest of the population"
   ]
  },
  {
   "cell_type": "code",
   "execution_count": 50,
   "metadata": {},
   "outputs": [
    {
     "data": {
      "text/plain": [
       "<AxesSubplot:xlabel='Relationship', ylabel='count'>"
      ]
     },
     "execution_count": 50,
     "metadata": {},
     "output_type": "execute_result"
    },
    {
     "data": {
      "image/png": "[encoded data removed]",
      "text/plain": [
       "<Figure size 864x432 with 1 Axes>"
      ]
     },
     "metadata": {
      "needs_background": "light"
     },
     "output_type": "display_data"
    }
   ],
   "source": [
    "ax_dim = (12, 6)\n",
    "fig, ax = plt.subplots(figsize=ax_dim)\n",
    "sns.countplot(ax=ax,data=pop_df, x='Relationship', hue='Income_Category')"
   ]
  },
  {
   "cell_type": "markdown",
   "metadata": {},
   "source": [
    "People who are in a relationship has higher income compared to others."
   ]
  },
  {
   "cell_type": "code",
   "execution_count": 51,
   "metadata": {},
   "outputs": [
    {
     "data": {
      "text/plain": [
       "<AxesSubplot:xlabel='Race', ylabel='count'>"
      ]
     },
     "execution_count": 51,
     "metadata": {},
     "output_type": "execute_result"
    },
    {
     "data": {
      "image/png": "[encoded data removed]",
      "text/plain": [
       "<Figure size 864x432 with 1 Axes>"
      ]
     },
     "metadata": {
      "needs_background": "light"
     },
     "output_type": "display_data"
    }
   ],
   "source": [
    "ax_dim = (12, 6)\n",
    "fig, ax = plt.subplots(figsize=ax_dim)\n",
    "sns.countplot(ax=ax,data=pop_df, x='Race', hue='Income_Category')"
   ]
  },
  {
   "cell_type": "markdown",
   "metadata": {},
   "source": [
    "People of White race are highly employed compared to any other race in this dataset. A very less number of people of non white races get higher income in this dataset"
   ]
  },
  {
   "cell_type": "code",
   "execution_count": 52,
   "metadata": {},
   "outputs": [
    {
     "data": {
      "text/plain": [
       "<AxesSubplot:xlabel='Gender', ylabel='count'>"
      ]
     },
     "execution_count": 52,
     "metadata": {},
     "output_type": "execute_result"
    },
    {
     "data": {
      "image/png": "[encoded data removed]",
      "text/plain": [
       "<Figure size 576x360 with 1 Axes>"
      ]
     },
     "metadata": {
      "needs_background": "light"
     },
     "output_type": "display_data"
    }
   ],
   "source": [
    "ax_dim = (8, 5)\n",
    "fig, ax = plt.subplots(figsize=ax_dim)\n",
    "sns.countplot(ax=ax,data=pop_df, x='Gender', hue='Income_Category')\n",
    "\n"
   ]
  },
  {
   "cell_type": "markdown",
   "metadata": {},
   "source": [
    "Male popluation has higer income compared to Female population. Females with higher income are very less compared to male population"
   ]
  },
  {
   "cell_type": "code",
   "execution_count": 53,
   "metadata": {},
   "outputs": [
    {
     "data": {
      "text/plain": [
       "<seaborn.axisgrid.FacetGrid at 0x11b1eb0d0>"
      ]
     },
     "execution_count": 53,
     "metadata": {},
     "output_type": "execute_result"
    },
    {
     "data": {
      "image/png": "[encoded data removed]",
      "text/plain": [
       "<Figure size 360x360 with 1 Axes>"
      ]
     },
     "metadata": {
      "needs_background": "light"
     },
     "output_type": "display_data"
    }
   ],
   "source": [
    "sns.catplot(x=\"Income_Category\", y=\"Age\", kind=\"box\", data=pop_df)"
   ]
  },
  {
   "cell_type": "markdown",
   "metadata": {},
   "source": [
    "Higher income group has a higher average age compared to lower income group"
   ]
  },
  {
   "cell_type": "markdown",
   "metadata": {},
   "source": [
    "#### Change Categorical Variables to Numeric values"
   ]
  },
  {
   "cell_type": "code",
   "execution_count": 54,
   "metadata": {},
   "outputs": [
    {
     "data": {
      "text/html": [
       "<div>\n",
       "<style scoped>\n",
       "    .dataframe tbody tr th:only-of-type {\n",
       "        vertical-align: middle;\n",
       "    }\n",
       "\n",
       "    .dataframe tbody tr th {\n",
       "        vertical-align: top;\n",
       "    }\n",
       "\n",
       "    .dataframe thead th {\n",
       "        text-align: right;\n",
       "    }\n",
       "</style>\n",
       "<table border=\"1\" class=\"dataframe\">\n",
       "  <thead>\n",
       "    <tr style=\"text-align: right;\">\n",
       "      <th></th>\n",
       "      <th>Job_Sector</th>\n",
       "      <th>Education</th>\n",
       "      <th>Marital_Status</th>\n",
       "      <th>Job_Type</th>\n",
       "      <th>Relationship</th>\n",
       "      <th>Race</th>\n",
       "      <th>Gender</th>\n",
       "      <th>Country</th>\n",
       "      <th>Income_Category</th>\n",
       "    </tr>\n",
       "  </thead>\n",
       "  <tbody>\n",
       "    <tr>\n",
       "      <th>count</th>\n",
       "      <td>32561</td>\n",
       "      <td>32561</td>\n",
       "      <td>32561</td>\n",
       "      <td>32561</td>\n",
       "      <td>32561</td>\n",
       "      <td>32561</td>\n",
       "      <td>32561</td>\n",
       "      <td>32561</td>\n",
       "      <td>32561</td>\n",
       "    </tr>\n",
       "    <tr>\n",
       "      <th>unique</th>\n",
       "      <td>8</td>\n",
       "      <td>16</td>\n",
       "      <td>7</td>\n",
       "      <td>14</td>\n",
       "      <td>6</td>\n",
       "      <td>5</td>\n",
       "      <td>2</td>\n",
       "      <td>41</td>\n",
       "      <td>2</td>\n",
       "    </tr>\n",
       "    <tr>\n",
       "      <th>top</th>\n",
       "      <td>Private</td>\n",
       "      <td>HS-grad</td>\n",
       "      <td>Married-civ-spouse</td>\n",
       "      <td>Prof-specialty</td>\n",
       "      <td>Husband</td>\n",
       "      <td>White</td>\n",
       "      <td>Male</td>\n",
       "      <td>United-States</td>\n",
       "      <td>&lt;=50K</td>\n",
       "    </tr>\n",
       "    <tr>\n",
       "      <th>freq</th>\n",
       "      <td>24532</td>\n",
       "      <td>10501</td>\n",
       "      <td>14976</td>\n",
       "      <td>5983</td>\n",
       "      <td>13193</td>\n",
       "      <td>27816</td>\n",
       "      <td>21790</td>\n",
       "      <td>29753</td>\n",
       "      <td>24720</td>\n",
       "    </tr>\n",
       "  </tbody>\n",
       "</table>\n",
       "</div>"
      ],
      "text/plain": [
       "       Job_Sector Education       Marital_Status         Job_Type  \\\n",
       "count       32561     32561                32561            32561   \n",
       "unique          8        16                    7               14   \n",
       "top       Private   HS-grad   Married-civ-spouse   Prof-specialty   \n",
       "freq        24532     10501                14976             5983   \n",
       "\n",
       "       Relationship    Race Gender         Country Income_Category  \n",
       "count         32561   32561  32561           32561           32561  \n",
       "unique            6       5      2              41               2  \n",
       "top         Husband   White   Male   United-States           <=50K  \n",
       "freq          13193   27816  21790           29753           24720  "
      ]
     },
     "execution_count": 54,
     "metadata": {},
     "output_type": "execute_result"
    }
   ],
   "source": [
    "pop_df.describe(exclude=np.number)"
   ]
  },
  {
   "cell_type": "code",
   "execution_count": 55,
   "metadata": {},
   "outputs": [
    {
     "data": {
      "text/plain": [
       " Male      21790\n",
       " Female    10771\n",
       "Name: Gender, dtype: int64"
      ]
     },
     "execution_count": 55,
     "metadata": {},
     "output_type": "execute_result"
    }
   ],
   "source": [
    "pop_df.Gender.value_counts()"
   ]
  },
  {
   "cell_type": "code",
   "execution_count": 56,
   "metadata": {},
   "outputs": [],
   "source": [
    "gender = { ' Male': 1, ' Female': 0}\n",
    "pop_df.Gender = [gender[item] for item in pop_df.Gender ]"
   ]
  },
  {
   "cell_type": "code",
   "execution_count": 57,
   "metadata": {},
   "outputs": [
    {
     "data": {
      "text/plain": [
       "1    21790\n",
       "0    10771\n",
       "Name: Gender, dtype: int64"
      ]
     },
     "execution_count": 57,
     "metadata": {},
     "output_type": "execute_result"
    }
   ],
   "source": [
    "pop_df.Gender.value_counts()"
   ]
  },
  {
   "cell_type": "code",
   "execution_count": 58,
   "metadata": {},
   "outputs": [
    {
     "data": {
      "text/plain": [
       " <=50K    24720\n",
       " >50K      7841\n",
       "Name: Income_Category, dtype: int64"
      ]
     },
     "execution_count": 58,
     "metadata": {},
     "output_type": "execute_result"
    }
   ],
   "source": [
    "pop_df.Income_Category.value_counts()"
   ]
  },
  {
   "cell_type": "code",
   "execution_count": 59,
   "metadata": {},
   "outputs": [],
   "source": [
    "income_cat = {' <=50K': 0, ' >50K': 1}\n",
    "pop_df.Income_Category = [income_cat[item] for item in pop_df.Income_Category]"
   ]
  },
  {
   "cell_type": "code",
   "execution_count": 60,
   "metadata": {},
   "outputs": [
    {
     "data": {
      "text/plain": [
       "0    24720\n",
       "1     7841\n",
       "Name: Income_Category, dtype: int64"
      ]
     },
     "execution_count": 60,
     "metadata": {},
     "output_type": "execute_result"
    }
   ],
   "source": [
    "pop_df.Income_Category.value_counts()"
   ]
  },
  {
   "cell_type": "code",
   "execution_count": 61,
   "metadata": {},
   "outputs": [],
   "source": [
    "from sklearn.preprocessing import LabelEncoder \n",
    "labelencoder= LabelEncoder()"
   ]
  },
  {
   "cell_type": "code",
   "execution_count": 62,
   "metadata": {},
   "outputs": [
    {
     "name": "stdout",
     "output_type": "stream",
     "text": [
      "0 :  Federal-gov\n",
      "1 :  Local-gov\n",
      "2 :  Never-worked\n",
      "3 :  Private\n",
      "4 :  Self-emp-inc\n",
      "5 :  Self-emp-not-inc\n",
      "6 :  State-gov\n",
      "7 :  Without-pay\n"
     ]
    }
   ],
   "source": [
    "for i, l in enumerate(labelencoder.fit(pop_df['Job_Sector']).classes_):\n",
    "    print(i,\":\",l)"
   ]
  },
  {
   "cell_type": "code",
   "execution_count": 63,
   "metadata": {},
   "outputs": [],
   "source": [
    "pop_df.Job_Sector = labelencoder.fit_transform(pop_df.Job_Sector)"
   ]
  },
  {
   "cell_type": "code",
   "execution_count": 64,
   "metadata": {},
   "outputs": [
    {
     "name": "stdout",
     "output_type": "stream",
     "text": [
      "0 :  10th\n",
      "1 :  11th\n",
      "2 :  12th\n",
      "3 :  1st-4th\n",
      "4 :  5th-6th\n",
      "5 :  7th-8th\n",
      "6 :  9th\n",
      "7 :  Assoc-acdm\n",
      "8 :  Assoc-voc\n",
      "9 :  Bachelors\n",
      "10 :  Doctorate\n",
      "11 :  HS-grad\n",
      "12 :  Masters\n",
      "13 :  Preschool\n",
      "14 :  Prof-school\n",
      "15 :  Some-college\n"
     ]
    }
   ],
   "source": [
    "for i, l in enumerate(labelencoder.fit(pop_df.Education).classes_):\n",
    "    print(i,\":\",l)"
   ]
  },
  {
   "cell_type": "code",
   "execution_count": 65,
   "metadata": {},
   "outputs": [],
   "source": [
    "pop_df.Education = labelencoder.fit_transform(pop_df.Education)"
   ]
  },
  {
   "cell_type": "code",
   "execution_count": 66,
   "metadata": {},
   "outputs": [
    {
     "name": "stdout",
     "output_type": "stream",
     "text": [
      "0 :  Divorced\n",
      "1 :  Married-AF-spouse\n",
      "2 :  Married-civ-spouse\n",
      "3 :  Married-spouse-absent\n",
      "4 :  Never-married\n",
      "5 :  Separated\n",
      "6 :  Widowed\n"
     ]
    }
   ],
   "source": [
    "for i, l in enumerate(labelencoder.fit(pop_df.Marital_Status).classes_):\n",
    "    print(i,\":\",l)"
   ]
  },
  {
   "cell_type": "code",
   "execution_count": 67,
   "metadata": {},
   "outputs": [],
   "source": [
    "pop_df.Marital_Status = labelencoder.fit_transform(pop_df.Marital_Status)"
   ]
  },
  {
   "cell_type": "code",
   "execution_count": 68,
   "metadata": {},
   "outputs": [
    {
     "name": "stdout",
     "output_type": "stream",
     "text": [
      "0 :  Adm-clerical\n",
      "1 :  Armed-Forces\n",
      "2 :  Craft-repair\n",
      "3 :  Exec-managerial\n",
      "4 :  Farming-fishing\n",
      "5 :  Handlers-cleaners\n",
      "6 :  Machine-op-inspct\n",
      "7 :  Other-service\n",
      "8 :  Priv-house-serv\n",
      "9 :  Prof-specialty\n",
      "10 :  Protective-serv\n",
      "11 :  Sales\n",
      "12 :  Tech-support\n",
      "13 :  Transport-moving\n"
     ]
    }
   ],
   "source": [
    "for i, l in enumerate(labelencoder.fit(pop_df.Job_Type).classes_):\n",
    "    print(i,\":\",l)"
   ]
  },
  {
   "cell_type": "code",
   "execution_count": 69,
   "metadata": {},
   "outputs": [],
   "source": [
    "pop_df.Job_Type = labelencoder.fit_transform(pop_df.Job_Type)"
   ]
  },
  {
   "cell_type": "code",
   "execution_count": 70,
   "metadata": {},
   "outputs": [
    {
     "name": "stdout",
     "output_type": "stream",
     "text": [
      "0 :  Husband\n",
      "1 :  Not-in-family\n",
      "2 :  Other-relative\n",
      "3 :  Own-child\n",
      "4 :  Unmarried\n",
      "5 :  Wife\n"
     ]
    }
   ],
   "source": [
    "for i, l in enumerate(labelencoder.fit(pop_df.Relationship).classes_):\n",
    "    print(i,\":\",l)"
   ]
  },
  {
   "cell_type": "code",
   "execution_count": 71,
   "metadata": {},
   "outputs": [],
   "source": [
    "pop_df.Relationship = labelencoder.fit_transform(pop_df.Relationship)"
   ]
  },
  {
   "cell_type": "code",
   "execution_count": 72,
   "metadata": {},
   "outputs": [
    {
     "name": "stdout",
     "output_type": "stream",
     "text": [
      "0 :  Amer-Indian-Eskimo\n",
      "1 :  Asian-Pac-Islander\n",
      "2 :  Black\n",
      "3 :  Other\n",
      "4 :  White\n"
     ]
    }
   ],
   "source": [
    "for i, l in enumerate(labelencoder.fit(pop_df.Race).classes_):\n",
    "    print(i,\":\",l)"
   ]
  },
  {
   "cell_type": "code",
   "execution_count": 73,
   "metadata": {},
   "outputs": [],
   "source": [
    "pop_df.Race = labelencoder.fit_transform(pop_df.Race)"
   ]
  },
  {
   "cell_type": "code",
   "execution_count": 74,
   "metadata": {},
   "outputs": [
    {
     "name": "stdout",
     "output_type": "stream",
     "text": [
      "0 :  Cambodia\n",
      "1 :  Canada\n",
      "2 :  China\n",
      "3 :  Columbia\n",
      "4 :  Cuba\n",
      "5 :  Dominican-Republic\n",
      "6 :  Ecuador\n",
      "7 :  El-Salvador\n",
      "8 :  England\n",
      "9 :  France\n",
      "10 :  Germany\n",
      "11 :  Greece\n",
      "12 :  Guatemala\n",
      "13 :  Haiti\n",
      "14 :  Holand-Netherlands\n",
      "15 :  Honduras\n",
      "16 :  Hong\n",
      "17 :  Hungary\n",
      "18 :  India\n",
      "19 :  Iran\n",
      "20 :  Ireland\n",
      "21 :  Italy\n",
      "22 :  Jamaica\n",
      "23 :  Japan\n",
      "24 :  Laos\n",
      "25 :  Mexico\n",
      "26 :  Nicaragua\n",
      "27 :  Outlying-US(Guam-USVI-etc)\n",
      "28 :  Peru\n",
      "29 :  Philippines\n",
      "30 :  Poland\n",
      "31 :  Portugal\n",
      "32 :  Puerto-Rico\n",
      "33 :  Scotland\n",
      "34 :  South\n",
      "35 :  Taiwan\n",
      "36 :  Thailand\n",
      "37 :  Trinadad&Tobago\n",
      "38 :  United-States\n",
      "39 :  Vietnam\n",
      "40 :  Yugoslavia\n"
     ]
    }
   ],
   "source": [
    "for i, l in enumerate(labelencoder.fit(pop_df.Country).classes_):\n",
    "    print(i,\":\",l)"
   ]
  },
  {
   "cell_type": "code",
   "execution_count": 75,
   "metadata": {},
   "outputs": [],
   "source": [
    "pop_df.Country = labelencoder.fit_transform(pop_df.Country)"
   ]
  },
  {
   "cell_type": "code",
   "execution_count": 76,
   "metadata": {
    "scrolled": true
   },
   "outputs": [
    {
     "data": {
      "image/png": "[encoded data removed]",
      "text/plain": [
       "<Figure size 864x720 with 2 Axes>"
      ]
     },
     "metadata": {
      "needs_background": "light"
     },
     "output_type": "display_data"
    }
   ],
   "source": [
    "#Plot Correlation Matrix\n",
    "\n",
    "fig = plt.figure(figsize=(12, 10))\n",
    "sns.heatmap(pop_df.corr(), cmap='Blues', annot=True)\n",
    "plt.xticks(rotation=45)\n",
    "plt.show()"
   ]
  },
  {
   "cell_type": "code",
   "execution_count": 77,
   "metadata": {},
   "outputs": [
    {
     "name": "stdout",
     "output_type": "stream",
     "text": [
      "<class 'pandas.core.frame.DataFrame'>\n",
      "RangeIndex: 32561 entries, 0 to 32560\n",
      "Data columns (total 15 columns):\n",
      " #   Column           Non-Null Count  Dtype\n",
      "---  ------           --------------  -----\n",
      " 0   Age              32561 non-null  int64\n",
      " 1   Job_Sector       32561 non-null  int64\n",
      " 2   COLUMN_2         32561 non-null  int64\n",
      " 3   Education        32561 non-null  int64\n",
      " 4   Education_Level  32561 non-null  int64\n",
      " 5   Marital_Status   32561 non-null  int64\n",
      " 6   Job_Type         32561 non-null  int64\n",
      " 7   Relationship     32561 non-null  int64\n",
      " 8   Race             32561 non-null  int64\n",
      " 9   Gender           32561 non-null  int64\n",
      " 10  COLUMN_10        32561 non-null  int64\n",
      " 11  COLUMN_11        32561 non-null  int64\n",
      " 12  COLUMN_12        32561 non-null  int64\n",
      " 13  Country          32561 non-null  int64\n",
      " 14  Income_Category  32561 non-null  int64\n",
      "dtypes: int64(15)\n",
      "memory usage: 3.7 MB\n"
     ]
    }
   ],
   "source": [
    "pop_df.info()"
   ]
  },
  {
   "cell_type": "code",
   "execution_count": 78,
   "metadata": {},
   "outputs": [],
   "source": [
    "features = ['Age', 'Job_Sector','Education_Level', 'Marital_Status','Job_Type', 'Relationship', 'Gender', 'Race', \n",
    "            'Country', 'COLUMN_10', 'COLUMN_11', 'COLUMN_12',  'COLUMN_2']\n",
    "\n",
    "X = pop_df[features]\n",
    "y = pop_df['Income_Category']"
   ]
  },
  {
   "cell_type": "code",
   "execution_count": 79,
   "metadata": {},
   "outputs": [],
   "source": [
    "from sklearn.model_selection import train_test_split\n",
    "from sklearn.preprocessing import StandardScaler\n",
    "from sklearn.linear_model import LogisticRegression\n",
    "from sklearn.tree import DecisionTreeClassifier\n",
    "from sklearn.ensemble import RandomForestClassifier\n",
    "from sklearn.metrics import classification_report,confusion_matrix, roc_auc_score, accuracy_score\n",
    "\n",
    "scaler = StandardScaler()\n",
    "X = scaler.fit_transform(X)\n"
   ]
  },
  {
   "cell_type": "code",
   "execution_count": 80,
   "metadata": {},
   "outputs": [],
   "source": [
    "x_train, x_test, y_train, y_test = train_test_split(X, y, test_size = 0.2, random_state=42)"
   ]
  },
  {
   "cell_type": "code",
   "execution_count": 81,
   "metadata": {},
   "outputs": [
    {
     "name": "stdout",
     "output_type": "stream",
     "text": [
      "LogisticRegression(C=1)\n",
      "accuracy_score: 0.83\n",
      "\n",
      "Confusion Matrix\n",
      "[[4651  291]\n",
      " [ 844  727]]\n",
      "\n",
      "roc_auc_score: 0.70\n",
      "\n",
      "Classification Report\n",
      "              precision    recall  f1-score   support\n",
      "\n",
      "           0       0.85      0.94      0.89      4942\n",
      "           1       0.71      0.46      0.56      1571\n",
      "\n",
      "    accuracy                           0.83      6513\n",
      "   macro avg       0.78      0.70      0.73      6513\n",
      "weighted avg       0.81      0.83      0.81      6513\n",
      "\n",
      "*******************************************\n",
      "DecisionTreeClassifier(max_features='auto', min_samples_leaf=4,\n",
      "                       min_samples_split=8)\n",
      "accuracy_score: 0.84\n",
      "\n",
      "Confusion Matrix\n",
      "[[4515  427]\n",
      " [ 614  957]]\n",
      "\n",
      "roc_auc_score: 0.76\n",
      "\n",
      "Classification Report\n",
      "              precision    recall  f1-score   support\n",
      "\n",
      "           0       0.88      0.91      0.90      4942\n",
      "           1       0.69      0.61      0.65      1571\n",
      "\n",
      "    accuracy                           0.84      6513\n",
      "   macro avg       0.79      0.76      0.77      6513\n",
      "weighted avg       0.83      0.84      0.84      6513\n",
      "\n",
      "*******************************************\n",
      "RandomForestClassifier(n_estimators=400)\n",
      "accuracy_score: 0.86\n",
      "\n",
      "Confusion Matrix\n",
      "[[4623  319]\n",
      " [ 563 1008]]\n",
      "\n",
      "roc_auc_score: 0.79\n",
      "\n",
      "Classification Report\n",
      "              precision    recall  f1-score   support\n",
      "\n",
      "           0       0.89      0.94      0.91      4942\n",
      "           1       0.76      0.64      0.70      1571\n",
      "\n",
      "    accuracy                           0.86      6513\n",
      "   macro avg       0.83      0.79      0.80      6513\n",
      "weighted avg       0.86      0.86      0.86      6513\n",
      "\n",
      "*******************************************\n"
     ]
    }
   ],
   "source": [
    "models = []\n",
    "\n",
    "lr = LogisticRegression(penalty='l2', C=1, solver='lbfgs')\n",
    "dtree = DecisionTreeClassifier(criterion= 'gini', min_samples_split=8,\n",
    "                                  min_samples_leaf = 4, max_features = 'auto')\n",
    "rfc = RandomForestClassifier(n_estimators=400)\n",
    "\n",
    "models.extend([lr,dtree, rfc])\n",
    "\n",
    "for model in models:\n",
    "    print(model)\n",
    "    model.fit(x_train, y_train)\n",
    "    ypred = model.predict(x_test)\n",
    "    print(\"accuracy_score: %0.2f\" %(accuracy_score(y_test, ypred)))\n",
    "    print()\n",
    "    print('Confusion Matrix')\n",
    "    print(confusion_matrix(y_test, ypred))\n",
    "    print()\n",
    "    print(\"roc_auc_score: %0.2f\" %(roc_auc_score(y_test, ypred)))\n",
    "    print()\n",
    "    print('Classification Report')\n",
    "    print(classification_report(y_test,ypred))\n",
    "    print('*******************************************')"
   ]
  },
  {
   "cell_type": "code",
   "execution_count": 82,
   "metadata": {},
   "outputs": [],
   "source": [
    "def plot_predicated_actual_distribution(model, x, y):\n",
    "    '''\n",
    "    Plot Actual Vs Predicated data distribution \n",
    "    '''\n",
    "    y_pred = model.predict(x)\n",
    "    figure, axes = plt.subplots(ncols=2)\n",
    "    figure.set_size_inches(10, 4)\n",
    "    sns.countplot(y, ax=axes[0])\n",
    "    axes[0].set_title('Actual Data Distribution')\n",
    "    sns.countplot(y_pred, ax=axes[1])\n",
    "    axes[1].set_title('Predicted Data Distribution')\n",
    "    \n",
    "    print('Y')\n",
    "    print(y[0:5])\n",
    "    print('Y_PRED')\n",
    "    print(y_pred[0:5])\n",
    "    "
   ]
  },
  {
   "cell_type": "code",
   "execution_count": 83,
   "metadata": {
    "scrolled": false
   },
   "outputs": [
    {
     "name": "stdout",
     "output_type": "stream",
     "text": [
      "Y\n",
      "14160    0\n",
      "27048    0\n",
      "28868    1\n",
      "5667     0\n",
      "7827     0\n",
      "Name: Income_Category, dtype: int64\n",
      "Y_PRED\n",
      "[0 0 1 0 0]\n"
     ]
    },
    {
     "data": {
      "image/png": "[encoded data removed]",
      "text/plain": [
       "<Figure size 720x288 with 2 Axes>"
      ]
     },
     "metadata": {
      "needs_background": "light"
     },
     "output_type": "display_data"
    }
   ],
   "source": [
    "plot_predicated_actual_distribution(rfc, x_test, y_test)"
   ]
  },
  {
   "cell_type": "markdown",
   "metadata": {},
   "source": [
    "#### Conclusion\n"
   ]
  },
  {
   "cell_type": "markdown",
   "metadata": {},
   "source": [
    "Population dataset has 15 columns namely Age, Job_sector, Job_type, Education, Education_level, Marital_Status, \n",
    "Relationship, Gender, Race, Country, Income_Catergory and 4 unknown columns. \n",
    "\n",
    "Education and Education_Level seem to have the same data.So I have used only Education_Level in the model\n",
    "\n",
    "Based on the data analysis and data correlation matrix, Age, Education, Relationship, Marital_Status and the 4 unknown columns are major factors in determining the Income Category.\n",
    "\n",
    "For Logistic Regression model, \n",
    "    accuracy score = 0.83\n",
    "    roc_auc_score = 0.70\n",
    "    \n",
    "For Decision Tree Classification model, \n",
    "    accuracy score = 0.85\n",
    "    roc_auc_score = 0.75\n",
    "    \n",
    "For Random Forest Classification model, \n",
    "    accuracy score = 0.86\n",
    "    roc_auc_score = 0.79\n",
    "\n",
    "Random Forest or Decision Tree seems to be the ideal model for this dataset"
   ]
  },
  {
   "cell_type": "code",
   "execution_count": null,
   "metadata": {},
   "outputs": [],
   "source": []
  }
 ],
 "metadata": {
  "kernelspec": {
   "display_name": "Python 3",
   "language": "python",
   "name": "python3"
  },
  "language_info": {
   "codemirror_mode": {
    "name": "ipython",
    "version": 3
   },
   "file_extension": ".py",
   "mimetype": "text/x-python",
   "name": "python",
   "nbconvert_exporter": "python",
   "pygments_lexer": "ipython3",
   "version": "3.8.5"
  }
 },
 "nbformat": 4,
 "nbformat_minor": 4
}
